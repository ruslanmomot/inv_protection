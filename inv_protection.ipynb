{
 "cells": [
  {
   "cell_type": "code",
   "execution_count": 1,
   "metadata": {
    "collapsed": false
   },
   "outputs": [
    {
     "name": "stderr",
     "output_type": "stream",
     "text": [
      "/Users/ruslanmomot/anaconda/lib/python2.7/site-packages/matplotlib/font_manager.py:273: UserWarning: Matplotlib is building the font cache using fc-list. This may take a moment.\n",
      "  warnings.warn('Matplotlib is building the font cache using fc-list. This may take a moment.')\n"
     ]
    }
   ],
   "source": [
    "%matplotlib inline"
   ]
  },
  {
   "cell_type": "code",
   "execution_count": 2,
   "metadata": {
    "collapsed": true
   },
   "outputs": [],
   "source": [
    "import matplotlib\n",
    "import numpy as np\n",
    "import matplotlib.pyplot as plt"
   ]
  },
  {
   "cell_type": "code",
   "execution_count": 21,
   "metadata": {
    "collapsed": true
   },
   "outputs": [],
   "source": [
    "# params:\n",
    "p = 0.2\n",
    "r = 0.03\n",
    "V = 1\n",
    "C = 0.9\n",
    "k = 0.01"
   ]
  },
  {
   "cell_type": "code",
   "execution_count": 4,
   "metadata": {
    "collapsed": true
   },
   "outputs": [],
   "source": [
    "def F(mu, alpha, d, ft):\n",
    "    return sum([ft[i]*(p*(1-k*mu[i])+(1-p*(1-k*mu[i]))*qd(alpha, dk-1)) for i, dk in enumerate(d)])\n",
    "\n",
    "def dU(alpha, dk):\n",
    "    return V*p*k*(1-qd(alpha, dk)) - C\n",
    "\n",
    "\n",
    "def qd(alpha, dk):\n",
    "    return 1-(1-r*alpha)**dk"
   ]
  },
  {
   "cell_type": "code",
   "execution_count": 5,
   "metadata": {
    "collapsed": true
   },
   "outputs": [],
   "source": [
    "# -----\n",
    "# load the network structure\n",
    "# -----\n",
    "f = np.load(\"f_face.npy\")[:200]\n",
    "d = np.load(\"d_face.npy\")[:200]"
   ]
  },
  {
   "cell_type": "code",
   "execution_count": 6,
   "metadata": {
    "collapsed": true
   },
   "outputs": [],
   "source": [
    "# Calculate edge-perspective \n",
    "dav = sum([fi*di for fi,di in zip(f, d)])\n",
    "ft = [fi*di/float(dav) for fi, di in zip(f, d)]"
   ]
  },
  {
   "cell_type": "code",
   "execution_count": 22,
   "metadata": {
    "collapsed": false
   },
   "outputs": [
    {
     "data": {
      "image/png": "[encoded data removed]",
      "text/plain": [
       "<matplotlib.figure.Figure at 0x10dc39d10>"
      ]
     },
     "metadata": {},
     "output_type": "display_data"
    },
    {
     "name": "stdout",
     "output_type": "stream",
     "text": [
      "Solutions [alpha, F]:  [[0.80299999999991156, 0.80328213288014061], [0.80399999999991145, 0.80351352033008938]]\n"
     ]
    }
   ],
   "source": [
    "amax = 1.001\n",
    "epsilon = (amax-1)/float(2)\n",
    "alphas = np.arange(0, amax, amax-1)\n",
    "Fs = []\n",
    "fpoints = []\n",
    "for alpha in alphas:\n",
    "    # calculate strategy induced by alpha\n",
    "    mu = [-1 if dU(alpha, dk) == 0 else 0 if dU(alpha, dk) < 0 else 1 for dk in d]\n",
    "    Fcalc = F(mu, alpha, d, ft)\n",
    "    Fs.append(Fcalc)\n",
    "    #print \"alpha = %s; F = %s\" % (alpha, Fcalc)\n",
    "\n",
    "    if abs(Fcalc - alpha) < epsilon:\n",
    "        fpoints.append([alpha, Fcalc])\n",
    "\n",
    "plt.plot(alphas, alphas)\n",
    "plt.plot(alphas, Fs)\n",
    "plt.show()\n",
    "print \"Solutions [alpha, F]: \", fpoints"
   ]
  },
  {
   "cell_type": "code",
   "execution_count": null,
   "metadata": {
    "collapsed": true
   },
   "outputs": [],
   "source": []
  }
 ],
 "metadata": {
  "kernelspec": {
   "display_name": "Python 2",
   "language": "python",
   "name": "python2"
  },
  "language_info": {
   "codemirror_mode": {
    "name": "ipython",
    "version": 2
   },
   "file_extension": ".py",
   "mimetype": "text/x-python",
   "name": "python",
   "nbconvert_exporter": "python",
   "pygments_lexer": "ipython2",
   "version": "2.7.10"
  }
 },
 "nbformat": 4,
 "nbformat_minor": 0
}
